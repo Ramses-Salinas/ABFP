{
 "cells": [
  {
   "cell_type": "markdown",
   "id": "3aeefca4",
   "metadata": {},
   "source": [
    "# Modelo para predicción de gastos futuros:\n",
    "\n",
    "Se busca que sea adaptable a la informaciónque suben los usuariosm por que se requiere mecanismos que permitan actualizar el modelo a medida que vaya obteniendo más datos(aprendiaje en línea o incremental) y diseñar una estructura donde los datos históricos del usuario se almacenen de forma que puedan alimentar continuamente el modelo para mejorar las predicciones."
   ]
  },
  {
   "cell_type": "code",
   "execution_count": 1,
   "id": "0b2d1b21",
   "metadata": {
    "scrolled": true
   },
   "outputs": [
    {
     "name": "stdout",
     "output_type": "stream",
     "text": [
      "Requirement already satisfied: statsmodels in c:\\users\\user\\anaconda3\\lib\\site-packages (0.13.2)\n",
      "Requirement already satisfied: pandas in c:\\users\\user\\anaconda3\\lib\\site-packages (1.4.2)Note: you may need to restart the kernel to use updated packages.\n",
      "\n",
      "Requirement already satisfied: fastapi in c:\\users\\user\\anaconda3\\lib\\site-packages (0.115.0)\n",
      "Requirement already satisfied: uvicorn in c:\\users\\user\\anaconda3\\lib\\site-packages (0.31.0)\n",
      "Requirement already satisfied: joblib in c:\\users\\user\\anaconda3\\lib\\site-packages (1.4.2)\n",
      "Requirement already satisfied: numpy>=1.17 in c:\\users\\user\\anaconda3\\lib\\site-packages (from statsmodels) (1.22.4)\n",
      "Requirement already satisfied: scipy>=1.3 in c:\\users\\user\\anaconda3\\lib\\site-packages (from statsmodels) (1.6.3)\n",
      "Requirement already satisfied: patsy>=0.5.2 in c:\\users\\user\\anaconda3\\lib\\site-packages (from statsmodels) (0.5.2)\n",
      "Requirement already satisfied: packaging>=21.3 in c:\\users\\user\\anaconda3\\lib\\site-packages (from statsmodels) (21.3)\n",
      "Requirement already satisfied: pytz>=2020.1 in c:\\users\\user\\anaconda3\\lib\\site-packages (from pandas) (2021.3)\n",
      "Requirement already satisfied: python-dateutil>=2.8.1 in c:\\users\\user\\anaconda3\\lib\\site-packages (from pandas) (2.8.2)\n",
      "Requirement already satisfied: pydantic!=1.8,!=1.8.1,!=2.0.0,!=2.0.1,!=2.1.0,<3.0.0,>=1.7.4 in c:\\users\\user\\anaconda3\\lib\\site-packages (from fastapi) (2.9.2)\n",
      "Requirement already satisfied: typing-extensions>=4.8.0 in c:\\users\\user\\anaconda3\\lib\\site-packages (from fastapi) (4.12.2)\n",
      "Requirement already satisfied: starlette<0.39.0,>=0.37.2 in c:\\users\\user\\anaconda3\\lib\\site-packages (from fastapi) (0.38.6)\n",
      "Requirement already satisfied: click>=7.0 in c:\\users\\user\\anaconda3\\lib\\site-packages (from uvicorn) (8.0.4)\n",
      "Requirement already satisfied: h11>=0.8 in c:\\users\\user\\anaconda3\\lib\\site-packages (from uvicorn) (0.14.0)\n",
      "Requirement already satisfied: colorama in c:\\users\\user\\anaconda3\\lib\\site-packages (from click>=7.0->uvicorn) (0.4.4)\n",
      "Requirement already satisfied: pyparsing!=3.0.5,>=2.0.2 in c:\\users\\user\\anaconda3\\lib\\site-packages (from packaging>=21.3->statsmodels) (3.0.4)\n",
      "Requirement already satisfied: six in c:\\users\\user\\anaconda3\\lib\\site-packages (from patsy>=0.5.2->statsmodels) (1.16.0)\n",
      "Requirement already satisfied: annotated-types>=0.6.0 in c:\\users\\user\\anaconda3\\lib\\site-packages (from pydantic!=1.8,!=1.8.1,!=2.0.0,!=2.0.1,!=2.1.0,<3.0.0,>=1.7.4->fastapi) (0.7.0)\n",
      "Requirement already satisfied: pydantic-core==2.23.4 in c:\\users\\user\\anaconda3\\lib\\site-packages (from pydantic!=1.8,!=1.8.1,!=2.0.0,!=2.0.1,!=2.1.0,<3.0.0,>=1.7.4->fastapi) (2.23.4)\n",
      "Requirement already satisfied: anyio<5,>=3.4.0 in c:\\users\\user\\anaconda3\\lib\\site-packages (from starlette<0.39.0,>=0.37.2->fastapi) (3.5.0)\n",
      "Requirement already satisfied: idna>=2.8 in c:\\users\\user\\anaconda3\\lib\\site-packages (from anyio<5,>=3.4.0->starlette<0.39.0,>=0.37.2->fastapi) (3.3)\n",
      "Requirement already satisfied: sniffio>=1.1 in c:\\users\\user\\anaconda3\\lib\\site-packages (from anyio<5,>=3.4.0->starlette<0.39.0,>=0.37.2->fastapi) (1.2.0)\n"
     ]
    }
   ],
   "source": [
    "pip install statsmodels pandas fastapi uvicorn joblib\n"
   ]
  },
  {
   "cell_type": "markdown",
   "id": "3f7575e6",
   "metadata": {},
   "source": [
    "## Series Temporales con ARIMA\n",
    "Si los datos de los gastos tienen una estructura temporal (mes a mes), podriamos utiliar un modelo como ARIMA, que es útil para hacer predicciones basadas en datos secuenciales."
   ]
  },
  {
   "cell_type": "code",
   "execution_count": 2,
   "id": "2f12bf7f",
   "metadata": {},
   "outputs": [],
   "source": [
    "import numpy as np\n",
    "import pandas as pd\n",
    "from statsmodels.tsa.arima.model import ARIMA\n",
    "import joblib"
   ]
  },
  {
   "cell_type": "code",
   "execution_count": 3,
   "id": "b346f6a0",
   "metadata": {},
   "outputs": [],
   "source": [
    "# Simulación de datos de ingresos y gastos para 24 meses (datos de ejemplo)\n",
    "np.random.seed(42)\n",
    "meses = np.arange(1, 25)\n",
    "ingresos = np.random.uniform(2000, 5000, size=24)\n",
    "gastos = ingresos * np.random.uniform(0.6, 0.9, size=24)"
   ]
  },
  {
   "cell_type": "code",
   "execution_count": 4,
   "id": "38ba809b",
   "metadata": {},
   "outputs": [],
   "source": [
    "# Crear un DataFrame con los datos simulados\n",
    "data = pd.DataFrame({\n",
    "    'Mes': meses,\n",
    "    'Ingresos': ingresos,\n",
    "    'Gastos': gastos\n",
    "})"
   ]
  },
  {
   "cell_type": "code",
   "execution_count": 5,
   "id": "86e742d5",
   "metadata": {},
   "outputs": [],
   "source": [
    "# Solo necesitamos la serie de gastos para ARIMA\n",
    "gastos_series = data['Gastos']"
   ]
  },
  {
   "cell_type": "code",
   "execution_count": 6,
   "id": "cc7ffb16",
   "metadata": {},
   "outputs": [],
   "source": [
    "# Crear el modelo ARIMA\n",
    "modelo_arima = ARIMA(gastos_series, order=(1, 1, 1))\n",
    "modelo_arima_fit = modelo_arima.fit()"
   ]
  },
  {
   "cell_type": "code",
   "execution_count": 7,
   "id": "6973126e",
   "metadata": {},
   "outputs": [
    {
     "name": "stdout",
     "output_type": "stream",
     "text": [
      "Modelo ARIMA entrenado y guardado.\n"
     ]
    }
   ],
   "source": [
    "# Guardar el modelo entrenado para uso futuro\n",
    "joblib.dump(modelo_arima_fit, 'modelo_arima.pkl')\n",
    "print(\"Modelo ARIMA entrenado y guardado.\")"
   ]
  },
  {
   "cell_type": "markdown",
   "id": "95abacce",
   "metadata": {},
   "source": [
    "## Ejecución con FastApi"
   ]
  },
  {
   "cell_type": "code",
   "execution_count": 8,
   "id": "29ccde51",
   "metadata": {},
   "outputs": [
    {
     "name": "stdout",
     "output_type": "stream",
     "text": [
      "Requirement already satisfied: fastapi in c:\\users\\user\\anaconda3\\lib\\site-packages (0.115.0)\n",
      "Requirement already satisfied: uvicorn in c:\\users\\user\\anaconda3\\lib\\site-packages (0.31.0)\n",
      "Requirement already satisfied: nest_asyncio in c:\\users\\user\\anaconda3\\lib\\site-packages (1.5.5)\n",
      "Requirement already satisfied: joblib in c:\\users\\user\\anaconda3\\lib\\site-packages (1.4.2)\n",
      "Requirement already satisfied: pydantic!=1.8,!=1.8.1,!=2.0.0,!=2.0.1,!=2.1.0,<3.0.0,>=1.7.4 in c:\\users\\user\\anaconda3\\lib\\site-packages (from fastapi) (2.9.2)\n",
      "Requirement already satisfied: starlette<0.39.0,>=0.37.2 in c:\\users\\user\\anaconda3\\lib\\site-packages (from fastapi) (0.38.6)\n",
      "Requirement already satisfied: typing-extensions>=4.8.0 in c:\\users\\user\\anaconda3\\lib\\site-packages (from fastapi) (4.12.2)\n",
      "Requirement already satisfied: h11>=0.8 in c:\\users\\user\\anaconda3\\lib\\site-packages (from uvicorn) (0.14.0)\n",
      "Requirement already satisfied: click>=7.0 in c:\\users\\user\\anaconda3\\lib\\site-packages (from uvicorn) (8.0.4)\n",
      "Requirement already satisfied: colorama in c:\\users\\user\\anaconda3\\lib\\site-packages (from click>=7.0->uvicorn) (0.4.4)\n",
      "Requirement already satisfied: annotated-types>=0.6.0 in c:\\users\\user\\anaconda3\\lib\\site-packages (from pydantic!=1.8,!=1.8.1,!=2.0.0,!=2.0.1,!=2.1.0,<3.0.0,>=1.7.4->fastapi) (0.7.0)\n",
      "Requirement already satisfied: pydantic-core==2.23.4 in c:\\users\\user\\anaconda3\\lib\\site-packages (from pydantic!=1.8,!=1.8.1,!=2.0.0,!=2.0.1,!=2.1.0,<3.0.0,>=1.7.4->fastapi) (2.23.4)\n",
      "Requirement already satisfied: anyio<5,>=3.4.0 in c:\\users\\user\\anaconda3\\lib\\site-packages (from starlette<0.39.0,>=0.37.2->fastapi) (3.5.0)\n",
      "Requirement already satisfied: sniffio>=1.1 in c:\\users\\user\\anaconda3\\lib\\site-packages (from anyio<5,>=3.4.0->starlette<0.39.0,>=0.37.2->fastapi) (1.2.0)\n",
      "Requirement already satisfied: idna>=2.8 in c:\\users\\user\\anaconda3\\lib\\site-packages (from anyio<5,>=3.4.0->starlette<0.39.0,>=0.37.2->fastapi) (3.3)\n"
     ]
    }
   ],
   "source": [
    "!pip install fastapi uvicorn nest_asyncio joblib\n"
   ]
  },
  {
   "cell_type": "code",
   "execution_count": 9,
   "id": "81acaacb",
   "metadata": {},
   "outputs": [],
   "source": [
    "import nest_asyncio\n",
    "import uvicorn\n",
    "from fastapi import FastAPI\n",
    "from pydantic import BaseModel\n",
    "import joblib"
   ]
  },
  {
   "cell_type": "code",
   "execution_count": 10,
   "id": "16627f0a",
   "metadata": {},
   "outputs": [],
   "source": [
    "# Solucionar problemas de asincronía en Jupyter\n",
    "nest_asyncio.apply()"
   ]
  },
  {
   "cell_type": "code",
   "execution_count": 11,
   "id": "25c49ba8",
   "metadata": {},
   "outputs": [],
   "source": [
    "# Crear la aplicación FastAPI\n",
    "app = FastAPI()"
   ]
  },
  {
   "cell_type": "code",
   "execution_count": 12,
   "id": "2082911a",
   "metadata": {},
   "outputs": [],
   "source": [
    "# Cargar el modelo ARIMA entrenado\n",
    "modelo_arima = joblib.load('modelo_arima.pkl')"
   ]
  },
  {
   "cell_type": "code",
   "execution_count": 13,
   "id": "5d9f9b62",
   "metadata": {},
   "outputs": [],
   "source": [
    "# Modelo de entrada para la predicción\n",
    "class PrediccionEntrada(BaseModel):\n",
    "    pasos: int  # Número de pasos (meses) para predecir a futuro"
   ]
  },
  {
   "cell_type": "code",
   "execution_count": 14,
   "id": "68c63acb",
   "metadata": {},
   "outputs": [],
   "source": [
    "# Ruta para realizar predicciones de gastos futuros\n",
    "@app.post(\"/predecir-gastos/\")\n",
    "def predecir_gastos(datos: PrediccionEntrada):\n",
    "    # Realizar la predicción para los próximos N pasos (meses)\n",
    "    prediccion = modelo_arima.forecast(steps=datos.pasos)\n",
    "    return {\"gastos_futuros\": list(prediccion)}"
   ]
  },
  {
   "cell_type": "code",
   "execution_count": 15,
   "id": "801488ad",
   "metadata": {},
   "outputs": [
    {
     "name": "stderr",
     "output_type": "stream",
     "text": [
      "INFO:     Started server process [25816]\n",
      "INFO:     Waiting for application startup.\n",
      "INFO:     Application startup complete.\n",
      "INFO:     Uvicorn running on http://127.0.0.1:8000 (Press CTRL+C to quit)\n"
     ]
    },
    {
     "name": "stdout",
     "output_type": "stream",
     "text": [
      "INFO:     127.0.0.1:62707 - \"GET / HTTP/1.1\" 404 Not Found\n",
      "INFO:     127.0.0.1:62707 - \"GET /favicon.ico HTTP/1.1\" 404 Not Found\n",
      "INFO:     127.0.0.1:62773 - \"GET /docs HTTP/1.1\" 200 OK\n",
      "INFO:     127.0.0.1:62773 - \"GET /openapi.json HTTP/1.1\" 200 OK\n",
      "INFO:     127.0.0.1:62871 - \"POST /predecir-gastos/ HTTP/1.1\" 200 OK\n",
      "INFO:     127.0.0.1:62885 - \"POST /predecir-gastos/ HTTP/1.1\" 200 OK\n",
      "INFO:     127.0.0.1:63130 - \"GET /docs HTTP/1.1\" 200 OK\n",
      "INFO:     127.0.0.1:63130 - \"GET /openapi.json HTTP/1.1\" 200 OK\n",
      "INFO:     127.0.0.1:63250 - \"GET /docs HTTP/1.1\" 200 OK\n",
      "INFO:     127.0.0.1:63250 - \"GET /openapi.json HTTP/1.1\" 200 OK\n"
     ]
    },
    {
     "name": "stderr",
     "output_type": "stream",
     "text": [
      "INFO:     Shutting down\n",
      "INFO:     Waiting for application shutdown.\n",
      "INFO:     Application shutdown complete.\n",
      "INFO:     Finished server process [25816]\n"
     ]
    }
   ],
   "source": [
    "# Ejecutar Uvicorn dentro del notebook\n",
    "if __name__ == \"__main__\":\n",
    "    uvicorn.run(app, host=\"127.0.0.1\", port=8000)"
   ]
  },
  {
   "cell_type": "code",
   "execution_count": null,
   "id": "c3b19e7b",
   "metadata": {},
   "outputs": [],
   "source": []
  }
 ],
 "metadata": {
  "kernelspec": {
   "display_name": "Python 3 (ipykernel)",
   "language": "python",
   "name": "python3"
  },
  "language_info": {
   "codemirror_mode": {
    "name": "ipython",
    "version": 3
   },
   "file_extension": ".py",
   "mimetype": "text/x-python",
   "name": "python",
   "nbconvert_exporter": "python",
   "pygments_lexer": "ipython3",
   "version": "3.9.12"
  }
 },
 "nbformat": 4,
 "nbformat_minor": 5
}
