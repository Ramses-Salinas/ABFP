{
 "cells": [
  {
   "cell_type": "markdown",
   "id": "ad01d85c",
   "metadata": {},
   "source": [
    "# Modelo de Recomendaciones:\n",
    "\n",
    "El modelo de recomendaicones personaliadas puede basarse en diferentes enfoques.\n",
    "Entonces una viabilidad más sencilla y efectiva es el usar \"algoritmos de clustering\" (agrupamiento), como K-means, esto con el fin de identificar patrones en los datos financieros de los usuarios y hgacer recomendaciones basados en esos parones.\n",
    "\n",
    "Como objetivo:\n",
    "- Agrupar los usuarios según sus patornes de gastos.\n",
    "- Proporcionar reocmenaicones personaliadas para reduir gastos en categorías donde están gastando mpas de lo reocmendado."
   ]
  },
  {
   "cell_type": "code",
   "execution_count": 1,
   "id": "0d315680",
   "metadata": {},
   "outputs": [
    {
     "data": {
      "text/html": [
       "<div>\n",
       "<style scoped>\n",
       "    .dataframe tbody tr th:only-of-type {\n",
       "        vertical-align: middle;\n",
       "    }\n",
       "\n",
       "    .dataframe tbody tr th {\n",
       "        vertical-align: top;\n",
       "    }\n",
       "\n",
       "    .dataframe thead th {\n",
       "        text-align: right;\n",
       "    }\n",
       "</style>\n",
       "<table border=\"1\" class=\"dataframe\">\n",
       "  <thead>\n",
       "    <tr style=\"text-align: right;\">\n",
       "      <th></th>\n",
       "      <th>Usuario</th>\n",
       "      <th>Alimentación</th>\n",
       "      <th>Transporte</th>\n",
       "      <th>Entretenimiento</th>\n",
       "      <th>Vivienda</th>\n",
       "    </tr>\n",
       "  </thead>\n",
       "  <tbody>\n",
       "    <tr>\n",
       "      <th>0</th>\n",
       "      <td>1</td>\n",
       "      <td>299.632095</td>\n",
       "      <td>10.292247</td>\n",
       "      <td>183.555868</td>\n",
       "      <td>729.053822</td>\n",
       "    </tr>\n",
       "    <tr>\n",
       "      <th>1</th>\n",
       "      <td>2</td>\n",
       "      <td>760.571445</td>\n",
       "      <td>484.954926</td>\n",
       "      <td>41.848158</td>\n",
       "      <td>204.628948</td>\n",
       "    </tr>\n",
       "    <tr>\n",
       "      <th>2</th>\n",
       "      <td>3</td>\n",
       "      <td>585.595153</td>\n",
       "      <td>416.221320</td>\n",
       "      <td>87.643395</td>\n",
       "      <td>78.061912</td>\n",
       "    </tr>\n",
       "    <tr>\n",
       "      <th>3</th>\n",
       "      <td>4</td>\n",
       "      <td>478.926787</td>\n",
       "      <td>106.169555</td>\n",
       "      <td>109.908553</td>\n",
       "      <td>1138.662645</td>\n",
       "    </tr>\n",
       "    <tr>\n",
       "      <th>4</th>\n",
       "      <td>5</td>\n",
       "      <td>124.814912</td>\n",
       "      <td>90.912484</td>\n",
       "      <td>136.820995</td>\n",
       "      <td>1158.758440</td>\n",
       "    </tr>\n",
       "    <tr>\n",
       "      <th>5</th>\n",
       "      <td>6</td>\n",
       "      <td>124.795616</td>\n",
       "      <td>91.702255</td>\n",
       "      <td>235.552788</td>\n",
       "      <td>970.076818</td>\n",
       "    </tr>\n",
       "    <tr>\n",
       "      <th>6</th>\n",
       "      <td>7</td>\n",
       "      <td>46.466890</td>\n",
       "      <td>152.121121</td>\n",
       "      <td>59.902135</td>\n",
       "      <td>365.536523</td>\n",
       "    </tr>\n",
       "    <tr>\n",
       "      <th>7</th>\n",
       "      <td>8</td>\n",
       "      <td>692.940917</td>\n",
       "      <td>262.378216</td>\n",
       "      <td>154.270332</td>\n",
       "      <td>117.206537</td>\n",
       "    </tr>\n",
       "    <tr>\n",
       "      <th>8</th>\n",
       "      <td>9</td>\n",
       "      <td>480.892009</td>\n",
       "      <td>215.972509</td>\n",
       "      <td>177.724371</td>\n",
       "      <td>821.079632</td>\n",
       "    </tr>\n",
       "    <tr>\n",
       "      <th>9</th>\n",
       "      <td>10</td>\n",
       "      <td>566.458062</td>\n",
       "      <td>145.614570</td>\n",
       "      <td>13.935124</td>\n",
       "      <td>528.182992</td>\n",
       "    </tr>\n",
       "  </tbody>\n",
       "</table>\n",
       "</div>"
      ],
      "text/plain": [
       "   Usuario  Alimentación  Transporte  Entretenimiento     Vivienda\n",
       "0        1    299.632095   10.292247       183.555868   729.053822\n",
       "1        2    760.571445  484.954926        41.848158   204.628948\n",
       "2        3    585.595153  416.221320        87.643395    78.061912\n",
       "3        4    478.926787  106.169555       109.908553  1138.662645\n",
       "4        5    124.814912   90.912484       136.820995  1158.758440\n",
       "5        6    124.795616   91.702255       235.552788   970.076818\n",
       "6        7     46.466890  152.121121        59.902135   365.536523\n",
       "7        8    692.940917  262.378216       154.270332   117.206537\n",
       "8        9    480.892009  215.972509       177.724371   821.079632\n",
       "9       10    566.458062  145.614570        13.935124   528.182992"
      ]
     },
     "execution_count": 1,
     "metadata": {},
     "output_type": "execute_result"
    }
   ],
   "source": [
    "import numpy as np\n",
    "import pandas as pd\n",
    "from sklearn.cluster import KMeans\n",
    "import joblib\n",
    "\n",
    "# Simulación de datos de gasto por categorías para 10 usuarios, permitiendo ceros\n",
    "np.random.seed(42)\n",
    "usuarios = np.arange(1, 11)\n",
    "alimentacion = np.random.uniform(0, 800, size=10)  # Permitir valores de 0\n",
    "transporte = np.random.uniform(0, 500, size=10)    # Permitir valores de 0\n",
    "entretenimiento = np.random.uniform(0, 300, size=10) # Permitir valores de 0\n",
    "vivienda = np.random.uniform(0, 1200, size=10)     # Permitir valores de 0\n",
    "\n",
    "# Crear un DataFrame con los datos simulados\n",
    "data = pd.DataFrame({\n",
    "    'Usuario': usuarios,\n",
    "    'Alimentación': alimentacion,\n",
    "    'Transporte': transporte,\n",
    "    'Entretenimiento': entretenimiento,\n",
    "    'Vivienda': vivienda\n",
    "})\n",
    "\n",
    "\n",
    "# Mostrar los datos simulados\n",
    "data\n"
   ]
  },
  {
   "cell_type": "markdown",
   "id": "0ad16ee0",
   "metadata": {},
   "source": [
    "Entrenamos el modelo de Clustering (K-Means) para agrupar a los usuarios según sus hábitos de gasto en diferentes categorías.\n",
    "Primero instalamos 'scikit-learn'\n"
   ]
  },
  {
   "cell_type": "markdown",
   "id": "f84cf3b6",
   "metadata": {},
   "source": [
    "Entrenamos el modelo de K-means"
   ]
  },
  {
   "cell_type": "code",
   "execution_count": 2,
   "id": "32258942",
   "metadata": {},
   "outputs": [
    {
     "data": {
      "text/plain": [
       "KMeans(n_clusters=3, random_state=42)"
      ]
     },
     "execution_count": 2,
     "metadata": {},
     "output_type": "execute_result"
    }
   ],
   "source": [
    "\n",
    "# Entrenar el modelo K-Means con 3 clusters\n",
    "X = data[['Alimentación', 'Transporte', 'Entretenimiento', 'Vivienda']]\n",
    "kmeans = KMeans(n_clusters=3, random_state=42)\n",
    "kmeans.fit(X)"
   ]
  },
  {
   "cell_type": "code",
   "execution_count": 21,
   "id": "f04bcd56",
   "metadata": {},
   "outputs": [
    {
     "name": "stdout",
     "output_type": "stream",
     "text": [
      "Modelo K-Means entrenado y guardado en 'modelo_recomendaciones.pkl'.\n"
     ]
    }
   ],
   "source": [
    "# Guardar el modelo entrenado en un archivo\n",
    "joblib.dump(kmeans, 'modelo_recomendaciones.pkl')\n",
    "\n",
    "print(\"Modelo K-Means entrenado y guardado en 'modelo_recomendaciones.pkl'.\")"
   ]
  },
  {
   "cell_type": "markdown",
   "id": "f77b506e",
   "metadata": {},
   "source": [
    "### Agregamos el modelo K-means a FastAPI"
   ]
  },
  {
   "cell_type": "code",
   "execution_count": 12,
   "id": "39d9b3a7",
   "metadata": {},
   "outputs": [],
   "source": [
    "from fastapi import FastAPI\n",
    "from pydantic import BaseModel\n",
    "import pandas as pd\n",
    "import joblib\n",
    "import numpy as np"
   ]
  },
  {
   "cell_type": "code",
   "execution_count": 13,
   "id": "bbc7ffe9",
   "metadata": {},
   "outputs": [],
   "source": [
    "# Crear la aplicación FastAPI\n",
    "app = FastAPI()"
   ]
  },
  {
   "cell_type": "code",
   "execution_count": 14,
   "id": "095ba8ac",
   "metadata": {},
   "outputs": [
    {
     "name": "stdout",
     "output_type": "stream",
     "text": [
      "Error cargando el modelo K-Means: [Errno 2] No such file or directory: 'modelo_recomendaciones.pkl'\n"
     ]
    }
   ],
   "source": [
    "# Cargar los modelos ARIMA y K-Means entrenados\n",
    "modelo_arima = joblib.load('modelo_arima.pkl')\n",
    "# Cargar el modelo K-Means entrenado\n",
    "try:\n",
    "    kmeans = joblib.load('modelo_recomendaciones.pkl')\n",
    "except Exception as e:\n",
    "    print(f\"Error cargando el modelo K-Means: {e}\")\n",
    "    kmeans = None\n"
   ]
  },
  {
   "cell_type": "code",
   "execution_count": 15,
   "id": "ea7d1d29",
   "metadata": {},
   "outputs": [],
   "source": [
    "# Modelo de entrada para la predicción de ARIMA\n",
    "class PrediccionEntrada(BaseModel):\n",
    "    pasos: int  # Número de pasos (meses) para predecir a futuro"
   ]
  },
  {
   "cell_type": "code",
   "execution_count": 16,
   "id": "76cc420c",
   "metadata": {},
   "outputs": [],
   "source": [
    "# Modelo de entrada para K-Means (gasto por categorías)\n",
    "class GastoEntrada(BaseModel):\n",
    "    alimentacion: float\n",
    "    transporte: float\n",
    "    entretenimiento: float\n",
    "    vivienda: float"
   ]
  },
  {
   "cell_type": "code",
   "execution_count": 17,
   "id": "84717270",
   "metadata": {},
   "outputs": [],
   "source": [
    "# Endpoint para predicción de gastos futuros con ARIMA\n",
    "@app.post(\"/predecir-gastos/\")\n",
    "def predecir_gastos(datos: PrediccionEntrada):\n",
    "    try:\n",
    "        # Realizar la predicción para los próximos N pasos (meses)\n",
    "        prediccion = modelo_arima.forecast(steps=datos.pasos)\n",
    "        return {\"gastos_futuros\": list(prediccion)}\n",
    "    \n",
    "    except Exception as e:\n",
    "        # Capturar cualquier excepción y devolverla en la respuesta\n",
    "        return {\"error\": str(e)}"
   ]
  },
  {
   "cell_type": "code",
   "execution_count": 18,
   "id": "0f9f8590",
   "metadata": {},
   "outputs": [],
   "source": [
    "# Endpoint para recomendaciones personalizadas con K-Means\n",
    "@app.post(\"/recomendar/\")\n",
    "def recomendar(datos: GastoEntrada):\n",
    "    try:\n",
    "        # Crear un DataFrame con los nombres de columnas que el modelo K-Means espera\n",
    "        entrada = pd.DataFrame([[\n",
    "            datos.alimentacion,\n",
    "            datos.transporte,\n",
    "            datos.entretenimiento,\n",
    "            datos.vivienda\n",
    "        ]], columns=['Alimentación', 'Transporte', 'Entretenimiento', 'Vivienda'])\n",
    "\n",
    "        # Hacer la predicción con K-Means\n",
    "        cluster = kmeans.predict(entrada)[0]\n",
    "\n",
    "        # Generar recomendaciones basadas en el cluster\n",
    "        recomendaciones = {\n",
    "            0: \"Considera reducir tus gastos en alimentación y entretenimiento.\",\n",
    "            1: \"Transporte está representando una gran parte de tus gastos. Prueba alternativas más económicas.\",\n",
    "            2: \"Tus gastos en vivienda son altos. Considera opciones de ahorro en este rubro.\"\n",
    "        }\n",
    "\n",
    "        return {\"recomendacion\": recomendaciones.get(cluster, \"Recomendación no disponible.\")}\n",
    "    \n",
    "    except Exception as e:\n",
    "        # Capturar cualquier excepción y devolverla en la respuesta\n",
    "        return {\"error\": str(e)}"
   ]
  },
  {
   "cell_type": "code",
   "execution_count": 20,
   "id": "970e269d",
   "metadata": {
    "scrolled": true
   },
   "outputs": [
    {
     "name": "stderr",
     "output_type": "stream",
     "text": [
      "INFO:     Started server process [17712]\n",
      "INFO:     Waiting for application startup.\n",
      "INFO:     Application startup complete.\n",
      "INFO:     Uvicorn running on http://127.0.0.1:8000 (Press CTRL+C to quit)\n",
      "INFO:     Shutting down\n",
      "INFO:     Waiting for application shutdown.\n",
      "INFO:     Application shutdown complete.\n",
      "INFO:     Finished server process [17712]\n"
     ]
    }
   ],
   "source": [
    "if __name__ == \"__main__\":\n",
    "    import nest_asyncio\n",
    "    import uvicorn\n",
    "    nest_asyncio.apply()  # Esto es necesario si estás en Jupyter\n",
    "    uvicorn.run(app, host=\"127.0.0.1\", port=8000)"
   ]
  },
  {
   "cell_type": "code",
   "execution_count": null,
   "id": "fa251804",
   "metadata": {},
   "outputs": [],
   "source": []
  }
 ],
 "metadata": {
  "kernelspec": {
   "display_name": "Python 3 (ipykernel)",
   "language": "python",
   "name": "python3"
  },
  "language_info": {
   "codemirror_mode": {
    "name": "ipython",
    "version": 3
   },
   "file_extension": ".py",
   "mimetype": "text/x-python",
   "name": "python",
   "nbconvert_exporter": "python",
   "pygments_lexer": "ipython3",
   "version": "3.9.12"
  }
 },
 "nbformat": 4,
 "nbformat_minor": 5
}
